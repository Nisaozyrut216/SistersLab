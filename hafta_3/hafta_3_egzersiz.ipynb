{
 "cells": [
  {
   "cell_type": "code",
   "execution_count": 1,
   "metadata": {},
   "outputs": [],
   "source": [
    "import pandas as pd"
   ]
  },
  {
   "cell_type": "markdown",
   "metadata": {},
   "source": [
    "Veri setini yükleme"
   ]
  },
  {
   "cell_type": "code",
   "execution_count": 2,
   "metadata": {},
   "outputs": [],
   "source": [
    "df = pd.read_csv(\"Top_Songs_US.csv\")"
   ]
  },
  {
   "cell_type": "markdown",
   "metadata": {},
   "source": [
    "Veri setini gözden geçirme"
   ]
  },
  {
   "cell_type": "code",
   "execution_count": 3,
   "metadata": {},
   "outputs": [
    {
     "name": "stdout",
     "output_type": "stream",
     "text": [
      "Veri seti bilgileri:\n",
      "<class 'pandas.core.frame.DataFrame'>\n",
      "RangeIndex: 37146 entries, 0 to 37145\n",
      "Data columns (total 16 columns):\n",
      " #   Column              Non-Null Count  Dtype \n",
      "---  ------              --------------  ----- \n",
      " 0   Album Type          37146 non-null  object\n",
      " 1   Artist ID           37146 non-null  object\n",
      " 2   Artist Name         37146 non-null  object\n",
      " 3   Artist Song Rank    37146 non-null  int64 \n",
      " 4   Track Name          37146 non-null  object\n",
      " 5   Is Playable         37146 non-null  bool  \n",
      " 6   Album Name          37146 non-null  object\n",
      " 7   Release Date        37146 non-null  object\n",
      " 8   Total Album Tracks  37146 non-null  int64 \n",
      " 9   Is Explicit         37146 non-null  bool  \n",
      " 10  ISRC                37146 non-null  object\n",
      " 11  Song Duration       37146 non-null  int64 \n",
      " 12  Track Number        37146 non-null  int64 \n",
      " 13  Popularity          37146 non-null  int64 \n",
      " 14  Track Id            37146 non-null  object\n",
      " 15  Track URI           37146 non-null  object\n",
      "dtypes: bool(2), int64(5), object(9)\n",
      "memory usage: 4.0+ MB\n",
      "None\n"
     ]
    }
   ],
   "source": [
    "print(\"Veri seti bilgileri:\")\n",
    "print(df.info())"
   ]
  },
  {
   "cell_type": "markdown",
   "metadata": {},
   "source": [
    "Eksik değerlerin kontrolünü sağlama"
   ]
  },
  {
   "cell_type": "code",
   "execution_count": 4,
   "metadata": {},
   "outputs": [
    {
     "name": "stdout",
     "output_type": "stream",
     "text": [
      "\n",
      "Eksik değerler:\n",
      "Album Type            0\n",
      "Artist ID             0\n",
      "Artist Name           0\n",
      "Artist Song Rank      0\n",
      "Track Name            0\n",
      "Is Playable           0\n",
      "Album Name            0\n",
      "Release Date          0\n",
      "Total Album Tracks    0\n",
      "Is Explicit           0\n",
      "ISRC                  0\n",
      "Song Duration         0\n",
      "Track Number          0\n",
      "Popularity            0\n",
      "Track Id              0\n",
      "Track URI             0\n",
      "dtype: int64\n"
     ]
    }
   ],
   "source": [
    "print(\"\\nEksik değerler:\")\n",
    "print(df.isnull().sum())"
   ]
  },
  {
   "cell_type": "markdown",
   "metadata": {},
   "source": [
    "Aykırı değerleri var ise kontrol etme örnek olarak sanatçı ismini aldım"
   ]
  },
  {
   "cell_type": "code",
   "execution_count": 7,
   "metadata": {},
   "outputs": [
    {
     "name": "stdout",
     "output_type": "stream",
     "text": [
      "\n",
      "Aykırı değerler:\n",
      "        Album Type               Artist ID  Artist Name  Artist Song Rank  \\\n",
      "371    compilation  0VRj0yCOv2FXJNP47XQnx5        Quavo                 2   \n",
      "487          album  738wLrAtLtCtFOLvQBXOXp  Major Lazer                 8   \n",
      "489          album  738wLrAtLtCtFOLvQBXOXp  Major Lazer                10   \n",
      "664         single  1alf4P7GDe5aNpALBzWIGf   ZEDDY WILL                 5   \n",
      "665         single  1alf4P7GDe5aNpALBzWIGf   ZEDDY WILL                 6   \n",
      "...            ...                     ...          ...               ...   \n",
      "37051       single  56OnRKCroIqOuaxbEnstY5        Anita                 6   \n",
      "37052       single  56OnRKCroIqOuaxbEnstY5        Anita                 7   \n",
      "37053  compilation  56OnRKCroIqOuaxbEnstY5        Anita                 8   \n",
      "37054       single  56OnRKCroIqOuaxbEnstY5        Anita                 9   \n",
      "37055       single  56OnRKCroIqOuaxbEnstY5        Anita                10   \n",
      "\n",
      "                        Track Name  Is Playable  \\\n",
      "371                     Intentions         True   \n",
      "487    Watch Out For This (Bumaye)         True   \n",
      "489                       Get Free         True   \n",
      "664          Dont Know What To Say         True   \n",
      "665                         BOP IT         True   \n",
      "...                            ...          ...   \n",
      "37051                 Por Hashiyeh         True   \n",
      "37052                 Bargashtam 2         True   \n",
      "37053                Kafie Bekhaam         True   \n",
      "37054          Faghat Ye Bare Dige         True   \n",
      "37055                        Nafas         True   \n",
      "\n",
      "                                  Album Name Release Date  Total Album Tracks  \\\n",
      "371    NOW That's What I Call Music, Vol. 75   2020-08-07                  22   \n",
      "487     Free The Universe (Extended Version)   2013-04-16                  18   \n",
      "489     Free The Universe (Extended Version)   2013-04-16                  18   \n",
      "664                    Dont Know What To Say   2023-03-24                   1   \n",
      "665                                   BOP IT   2022-12-25                   1   \n",
      "...                                      ...          ...                 ...   \n",
      "37051                           Por Hashiyeh   2020-01-01                   1   \n",
      "37052                                Eternal   2020-10-23                   5   \n",
      "37053                                Javooni         2019                  12   \n",
      "37054                    Faghat Ye Bare Dige   2020-09-16                   1   \n",
      "37055                                  Nafas   2022-08-17                   1   \n",
      "\n",
      "       Is Explicit          ISRC  Song Duration  Track Number  Popularity  \\\n",
      "371          False  USUM72001302         212853             9          35   \n",
      "487          False  US38W1229208         269146             8          31   \n",
      "489          False  US38W1229203         289973             3          29   \n",
      "664           True  QZHN52300078         131016             1          38   \n",
      "665           True  QZTB92245172         118857             1          36   \n",
      "...            ...           ...            ...           ...         ...   \n",
      "37051        False  QZPXF2120313         190197             1          23   \n",
      "37052        False  QZPXF2120141         189988             1          21   \n",
      "37053        False  QZPXF2120921         188477             7          21   \n",
      "37054        False  QZPXF2120148         226324             1          19   \n",
      "37055        False  QZN882261912         190066             1          18   \n",
      "\n",
      "                     Track Id                             Track URI  \n",
      "371    7jAVt70Xdg8EwOtsFB1ZqK  spotify:track:7jAVt70Xdg8EwOtsFB1ZqK  \n",
      "487    1lhpyjqKywDlNjw4nii2ZO  spotify:track:1lhpyjqKywDlNjw4nii2ZO  \n",
      "489    56hYeuutlZO5Pkm99FzLCW  spotify:track:56hYeuutlZO5Pkm99FzLCW  \n",
      "664    31p9JVXZ35qBeTJlj8CTbG  spotify:track:31p9JVXZ35qBeTJlj8CTbG  \n",
      "665    2hXakd0WuHwf3Luu92lk1p  spotify:track:2hXakd0WuHwf3Luu92lk1p  \n",
      "...                       ...                                   ...  \n",
      "37051  6fOcAj5lXE5LYcMduF4CUP  spotify:track:6fOcAj5lXE5LYcMduF4CUP  \n",
      "37052  7EG8l0vVLizadKGgEh9mkR  spotify:track:7EG8l0vVLizadKGgEh9mkR  \n",
      "37053  00QdWt5wH5BLolKBJtvRHQ  spotify:track:00QdWt5wH5BLolKBJtvRHQ  \n",
      "37054  2YfTyhUdzQjQZmxrcDdurr  spotify:track:2YfTyhUdzQjQZmxrcDdurr  \n",
      "37055  7aGN6o4TPa79jRGfqZlhe1  spotify:track:7aGN6o4TPa79jRGfqZlhe1  \n",
      "\n",
      "[1190 rows x 16 columns]\n"
     ]
    }
   ],
   "source": [
    "q1 = df['Popularity'].quantile(0.25)\n",
    "q3 = df['Popularity'].quantile(0.75)\n",
    "iqr = q3 - q1\n",
    "lower_bound = q1 - 1.5 * iqr\n",
    "upper_bound = q3 + 1.5 * iqr\n",
    "\n",
    "outliers = df[(df['Popularity'] < lower_bound) | (df['Popularity'] > upper_bound)]\n",
    "print(\"\\nAykırı değerler:\")\n",
    "print(outliers)"
   ]
  },
  {
   "cell_type": "code",
   "execution_count": null,
   "metadata": {},
   "outputs": [],
   "source": []
  }
 ],
 "metadata": {
  "kernelspec": {
   "display_name": "base",
   "language": "python",
   "name": "python3"
  },
  "language_info": {
   "codemirror_mode": {
    "name": "ipython",
    "version": 3
   },
   "file_extension": ".py",
   "mimetype": "text/x-python",
   "name": "python",
   "nbconvert_exporter": "python",
   "pygments_lexer": "ipython3",
   "version": "3.11.4"
  }
 },
 "nbformat": 4,
 "nbformat_minor": 2
}
