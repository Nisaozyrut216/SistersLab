{
 "cells": [
  {
   "cell_type": "code",
   "execution_count": 1,
   "metadata": {},
   "outputs": [],
   "source": [
    "import pandas as pd"
   ]
  },
  {
   "cell_type": "markdown",
   "metadata": {},
   "source": [
    "### verilerin url sini alma"
   ]
  },
  {
   "cell_type": "code",
   "execution_count": 23,
   "metadata": {},
   "outputs": [],
   "source": [
    "base_url = \"../hafta_2/data/\"\n",
    "infected_dataset_url = base_url + \"time_series_covid19_confirmed_global.csv\"\n",
    "recovered_dataset_url = base_url + \"time_series_covid19_recovered_global.csv\"\n",
    "deaths_dataset_url = base_url + \"time_series_covid19_deaths_global.csv\"\n"
   ]
  },
  {
   "cell_type": "markdown",
   "metadata": {},
   "source": [
    "### veri kümelerini okuma"
   ]
  },
  {
   "cell_type": "code",
   "execution_count": 24,
   "metadata": {},
   "outputs": [],
   "source": [
    "infected_data = pd.read_csv(infected_dataset_url)\n",
    "recovered_data = pd.read_csv(recovered_dataset_url)\n",
    "deaths_data = pd.read_csv(deaths_dataset_url)"
   ]
  },
  {
   "cell_type": "markdown",
   "metadata": {},
   "source": [
    "### veri kümelerinin birkaç satırını okuma ve görüntüleme"
   ]
  },
  {
   "cell_type": "code",
   "execution_count": 25,
   "metadata": {},
   "outputs": [
    {
     "name": "stdout",
     "output_type": "stream",
     "text": [
      "Infected Data Sample:\n",
      "  Province/State Country/Region      Lat     Long  1/22/20  1/23/20  1/24/20  \\\n",
      "0            NaN    Afghanistan  33.0000  65.0000        0        0        0   \n",
      "1            NaN        Albania  41.1533  20.1683        0        0        0   \n",
      "2            NaN        Algeria  28.0339   1.6596        0        0        0   \n",
      "3            NaN        Andorra  42.5063   1.5218        0        0        0   \n",
      "4            NaN         Angola -11.2027  17.8739        0        0        0   \n",
      "\n",
      "   1/25/20  1/26/20  1/27/20  ...  6/6/20  6/7/20  6/8/20  6/9/20  6/10/20  \\\n",
      "0        0        0        0  ...   19551   20342   20917   21459    22142   \n",
      "1        0        0        0  ...    1232    1246    1263    1299     1341   \n",
      "2        0        0        0  ...   10050   10154   10265   10382    10484   \n",
      "3        0        0        0  ...     852     852     852     852      852   \n",
      "4        0        0        0  ...      88      91      92      96      113   \n",
      "\n",
      "   6/11/20  6/12/20  6/13/20  6/14/20  6/15/20  \n",
      "0    22890    23546    24102    24766    25527  \n",
      "1     1385     1416     1464     1521     1590  \n",
      "2    10589    10698    10810    10919    11031  \n",
      "3      852      853      853      853      853  \n",
      "4      118      130      138      140      142  \n",
      "\n",
      "[5 rows x 150 columns]\n"
     ]
    }
   ],
   "source": [
    "print(\"Infected Data Sample:\")\n",
    "print(infected_data.head())"
   ]
  },
  {
   "cell_type": "code",
   "execution_count": 26,
   "metadata": {},
   "outputs": [
    {
     "name": "stdout",
     "output_type": "stream",
     "text": [
      "\n",
      "Recovered Data Sample:\n",
      "  Province/State Country/Region      Lat     Long  1/22/20  1/23/20  1/24/20  \\\n",
      "0            NaN    Afghanistan  33.0000  65.0000        0        0        0   \n",
      "1            NaN        Albania  41.1533  20.1683        0        0        0   \n",
      "2            NaN        Algeria  28.0339   1.6596        0        0        0   \n",
      "3            NaN        Andorra  42.5063   1.5218        0        0        0   \n",
      "4            NaN         Angola -11.2027  17.8739        0        0        0   \n",
      "\n",
      "   1/25/20  1/26/20  1/27/20  ...  6/6/20  6/7/20  6/8/20  6/9/20  6/10/20  \\\n",
      "0        0        0        0  ...    1830    1875    2171    2651     3013   \n",
      "1        0        0        0  ...     925     938     945     960      980   \n",
      "2        0        0        0  ...    6631    6717    6799    6951     7074   \n",
      "3        0        0        0  ...     741     744     751     757      759   \n",
      "4        0        0        0  ...      24      24      38      38       40   \n",
      "\n",
      "   6/11/20  6/12/20  6/13/20  6/14/20  6/15/20  \n",
      "0     3326     3928     4201     4725     5164  \n",
      "1     1001     1034     1039     1044     1055  \n",
      "2     7255     7322     7420     7606     7735  \n",
      "3      780      781      781      781      789  \n",
      "4       41       42       61       61       64  \n",
      "\n",
      "[5 rows x 150 columns]\n"
     ]
    }
   ],
   "source": [
    "print(\"\\nRecovered Data Sample:\")\n",
    "print(recovered_data.head())"
   ]
  },
  {
   "cell_type": "code",
   "execution_count": 27,
   "metadata": {},
   "outputs": [
    {
     "name": "stdout",
     "output_type": "stream",
     "text": [
      "\n",
      "Deaths Data Sample:\n",
      "  Province/State Country/Region      Lat     Long  1/22/20  1/23/20  1/24/20  \\\n",
      "0            NaN    Afghanistan  33.0000  65.0000        0        0        0   \n",
      "1            NaN        Albania  41.1533  20.1683        0        0        0   \n",
      "2            NaN        Algeria  28.0339   1.6596        0        0        0   \n",
      "3            NaN        Andorra  42.5063   1.5218        0        0        0   \n",
      "4            NaN         Angola -11.2027  17.8739        0        0        0   \n",
      "\n",
      "   1/25/20  1/26/20  1/27/20  ...  6/6/20  6/7/20  6/8/20  6/9/20  6/10/20  \\\n",
      "0        0        0        0  ...     327     357     369     384      405   \n",
      "1        0        0        0  ...      34      34      34      34       34   \n",
      "2        0        0        0  ...     698     707     715     724      732   \n",
      "3        0        0        0  ...      51      51      51      51       51   \n",
      "4        0        0        0  ...       4       4       4       4        4   \n",
      "\n",
      "   6/11/20  6/12/20  6/13/20  6/14/20  6/15/20  \n",
      "0      426      446      451      471      478  \n",
      "1       35       36       36       36       36  \n",
      "2      741      751      760      767      777  \n",
      "3       51       51       51       51       51  \n",
      "4        5        5        6        6        6  \n",
      "\n",
      "[5 rows x 150 columns]\n"
     ]
    }
   ],
   "source": [
    "print(\"\\nDeaths Data Sample:\")\n",
    "print(deaths_data.head())"
   ]
  },
  {
   "cell_type": "markdown",
   "metadata": {},
   "source": [
    "### veri kümeleri hakkında bilgi edinme"
   ]
  },
  {
   "cell_type": "code",
   "execution_count": 28,
   "metadata": {},
   "outputs": [
    {
     "name": "stdout",
     "output_type": "stream",
     "text": [
      "\n",
      "Infected Data Information:\n",
      "<class 'pandas.core.frame.DataFrame'>\n",
      "RangeIndex: 266 entries, 0 to 265\n",
      "Columns: 150 entries, Province/State to 6/15/20\n",
      "dtypes: float64(2), int64(146), object(2)\n",
      "memory usage: 311.8+ KB\n",
      "None\n"
     ]
    }
   ],
   "source": [
    "print(\"\\nInfected Data Information:\")\n",
    "print(infected_data.info())"
   ]
  },
  {
   "cell_type": "markdown",
   "metadata": {},
   "source": [
    "### verileri ülkeler göre toplama"
   ]
  },
  {
   "cell_type": "code",
   "execution_count": 30,
   "metadata": {},
   "outputs": [
    {
     "name": "stderr",
     "output_type": "stream",
     "text": [
      "C:\\Users\\ozyur\\AppData\\Local\\Temp\\ipykernel_25176\\50057053.py:1: FutureWarning: The default value of numeric_only in DataFrameGroupBy.sum is deprecated. In a future version, numeric_only will default to False. Either specify numeric_only or select only columns which should be valid for the function.\n",
      "  total_infected_by_country = infected_data.groupby('Country/Region').sum().iloc[:, 4:].transpose()\n",
      "C:\\Users\\ozyur\\AppData\\Local\\Temp\\ipykernel_25176\\50057053.py:2: FutureWarning: The default value of numeric_only in DataFrameGroupBy.sum is deprecated. In a future version, numeric_only will default to False. Either specify numeric_only or select only columns which should be valid for the function.\n",
      "  total_recovered_by_country = recovered_data.groupby('Country/Region').sum().iloc[:, 4:].transpose()\n",
      "C:\\Users\\ozyur\\AppData\\Local\\Temp\\ipykernel_25176\\50057053.py:3: FutureWarning: The default value of numeric_only in DataFrameGroupBy.sum is deprecated. In a future version, numeric_only will default to False. Either specify numeric_only or select only columns which should be valid for the function.\n",
      "  total_deaths_by_country = deaths_data.groupby('Country/Region').sum().iloc[:, 4:].transpose()\n"
     ]
    }
   ],
   "source": [
    "total_infected_by_country = infected_data.groupby('Country/Region').sum().iloc[:, 4:].transpose()\n",
    "total_recovered_by_country = recovered_data.groupby('Country/Region').sum().iloc[:, 4:].transpose()\n",
    "total_deaths_by_country = deaths_data.groupby('Country/Region').sum().iloc[:, 4:].transpose()\n"
   ]
  },
  {
   "cell_type": "code",
   "execution_count": 31,
   "metadata": {},
   "outputs": [],
   "source": [
    "global_total_infected = total_infected_by_country.sum(axis=1)\n",
    "global_total_recovered = total_recovered_by_country.sum(axis=1)\n",
    "global_total_deaths = total_deaths_by_country.sum(axis=1)"
   ]
  },
  {
   "cell_type": "markdown",
   "metadata": {},
   "source": [
    "### genel toplamları görüntüleme"
   ]
  },
  {
   "cell_type": "code",
   "execution_count": 32,
   "metadata": {},
   "outputs": [
    {
     "name": "stdout",
     "output_type": "stream",
     "text": [
      "\n",
      "Global COVID-19 Totals:\n",
      "         Total Infected  Total Recovered  Total Deaths\n",
      "1/24/20             941               36            26\n",
      "1/25/20            1434               39            42\n",
      "1/26/20            2118               52            56\n",
      "1/27/20            2927               61            82\n",
      "1/28/20            5578              107           131\n",
      "...                 ...              ...           ...\n",
      "6/11/20         7514724          3540696        421461\n",
      "6/12/20         7644260          3620412        425780\n",
      "6/13/20         7778881          3706353        430047\n",
      "6/14/20         7912426          3777131        433391\n",
      "6/15/20         8034461          3857338        436899\n",
      "\n",
      "[144 rows x 3 columns]\n"
     ]
    }
   ],
   "source": [
    "global_totals = pd.DataFrame({\n",
    "    'Total Infected': global_total_infected,\n",
    "    'Total Recovered': global_total_recovered,\n",
    "    'Total Deaths': global_total_deaths\n",
    "})\n",
    "print(\"\\nGlobal COVID-19 Totals:\")\n",
    "print(global_totals)"
   ]
  },
  {
   "cell_type": "markdown",
   "metadata": {},
   "source": [
    "### küresel ölüm oranın hesaplanması "
   ]
  },
  {
   "cell_type": "code",
   "execution_count": 33,
   "metadata": {},
   "outputs": [
    {
     "name": "stdout",
     "output_type": "stream",
     "text": [
      "\n",
      "Global Fatality Rate (%):\n",
      "1/24/20    2.76\n",
      "1/25/20    2.93\n",
      "1/26/20    2.64\n",
      "1/27/20    2.80\n",
      "1/28/20    2.35\n",
      "           ... \n",
      "6/11/20    5.61\n",
      "6/12/20    5.57\n",
      "6/13/20    5.53\n",
      "6/14/20    5.48\n",
      "6/15/20    5.44\n",
      "Length: 144, dtype: float64\n"
     ]
    }
   ],
   "source": [
    "global_fatality_rate = (global_total_deaths / global_total_infected * 100).round(2)\n",
    "print(\"\\nGlobal Fatality Rate (%):\")\n",
    "print(global_fatality_rate)\n"
   ]
  },
  {
   "cell_type": "markdown",
   "metadata": {},
   "source": [
    "### toplam ölümlere göre ilk 10 ülke"
   ]
  },
  {
   "cell_type": "code",
   "execution_count": 34,
   "metadata": {},
   "outputs": [
    {
     "name": "stdout",
     "output_type": "stream",
     "text": [
      "\n",
      "Top 10 Countries by Total Deaths:\n",
      "Country/Region\n",
      "US                5421506\n",
      "Italy             2243816\n",
      "United Kingdom    2130775\n",
      "Spain             1844627\n",
      "France            1791482\n",
      "Brazil            1139671\n",
      "Belgium            553708\n",
      "Iran               516928\n",
      "Germany            492648\n",
      "China              477382\n",
      "dtype: int64\n"
     ]
    }
   ],
   "source": [
    "top_10_countries_deaths = total_deaths_by_country.sum(axis=0).nlargest(10)\n",
    "print(\"\\nTop 10 Countries by Total Deaths:\")\n",
    "print(top_10_countries_deaths)"
   ]
  }
 ],
 "metadata": {
  "kernelspec": {
   "display_name": "base",
   "language": "python",
   "name": "python3"
  },
  "language_info": {
   "codemirror_mode": {
    "name": "ipython",
    "version": 3
   },
   "file_extension": ".py",
   "mimetype": "text/x-python",
   "name": "python",
   "nbconvert_exporter": "python",
   "pygments_lexer": "ipython3",
   "version": "3.11.4"
  }
 },
 "nbformat": 4,
 "nbformat_minor": 2
}
